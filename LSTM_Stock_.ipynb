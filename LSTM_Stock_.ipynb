{
 "cells": [
  {
   "cell_type": "code",
   "execution_count": 69,
   "id": "110cc835",
   "metadata": {},
   "outputs": [],
   "source": [
    "import numpy as np\n",
    "import pandas as pd\n",
    "import matplotlib.pyplot as plt\n",
    "from pandas_datareader import data as pdr"
   ]
  },
  {
   "cell_type": "code",
   "execution_count": 70,
   "id": "7528cc19",
   "metadata": {},
   "outputs": [
    {
     "name": "stderr",
     "output_type": "stream",
     "text": [
      "[*********************100%%**********************]  1 of 1 completed\n"
     ]
    },
    {
     "data": {
      "text/html": [
       "<div>\n",
       "<style scoped>\n",
       "    .dataframe tbody tr th:only-of-type {\n",
       "        vertical-align: middle;\n",
       "    }\n",
       "\n",
       "    .dataframe tbody tr th {\n",
       "        vertical-align: top;\n",
       "    }\n",
       "\n",
       "    .dataframe thead th {\n",
       "        text-align: right;\n",
       "    }\n",
       "</style>\n",
       "<table border=\"1\" class=\"dataframe\">\n",
       "  <thead>\n",
       "    <tr style=\"text-align: right;\">\n",
       "      <th></th>\n",
       "      <th>Open</th>\n",
       "      <th>High</th>\n",
       "      <th>Low</th>\n",
       "      <th>Close</th>\n",
       "      <th>Adj Close</th>\n",
       "      <th>Volume</th>\n",
       "    </tr>\n",
       "    <tr>\n",
       "      <th>Date</th>\n",
       "      <th></th>\n",
       "      <th></th>\n",
       "      <th></th>\n",
       "      <th></th>\n",
       "      <th></th>\n",
       "      <th></th>\n",
       "    </tr>\n",
       "  </thead>\n",
       "  <tbody>\n",
       "    <tr>\n",
       "      <th>2004-01-02</th>\n",
       "      <td>0.384821</td>\n",
       "      <td>0.388393</td>\n",
       "      <td>0.378214</td>\n",
       "      <td>0.380000</td>\n",
       "      <td>0.322118</td>\n",
       "      <td>144642400</td>\n",
       "    </tr>\n",
       "    <tr>\n",
       "      <th>2004-01-05</th>\n",
       "      <td>0.382500</td>\n",
       "      <td>0.399821</td>\n",
       "      <td>0.382500</td>\n",
       "      <td>0.395893</td>\n",
       "      <td>0.335590</td>\n",
       "      <td>395018400</td>\n",
       "    </tr>\n",
       "    <tr>\n",
       "      <th>2004-01-06</th>\n",
       "      <td>0.397321</td>\n",
       "      <td>0.400357</td>\n",
       "      <td>0.387679</td>\n",
       "      <td>0.394464</td>\n",
       "      <td>0.334379</td>\n",
       "      <td>509348000</td>\n",
       "    </tr>\n",
       "    <tr>\n",
       "      <th>2004-01-07</th>\n",
       "      <td>0.394643</td>\n",
       "      <td>0.407679</td>\n",
       "      <td>0.391607</td>\n",
       "      <td>0.403393</td>\n",
       "      <td>0.341948</td>\n",
       "      <td>586874400</td>\n",
       "    </tr>\n",
       "    <tr>\n",
       "      <th>2004-01-08</th>\n",
       "      <td>0.407857</td>\n",
       "      <td>0.423750</td>\n",
       "      <td>0.404464</td>\n",
       "      <td>0.417143</td>\n",
       "      <td>0.353604</td>\n",
       "      <td>460303200</td>\n",
       "    </tr>\n",
       "  </tbody>\n",
       "</table>\n",
       "</div>"
      ],
      "text/plain": [
       "                Open      High       Low     Close  Adj Close     Volume\n",
       "Date                                                                    \n",
       "2004-01-02  0.384821  0.388393  0.378214  0.380000   0.322118  144642400\n",
       "2004-01-05  0.382500  0.399821  0.382500  0.395893   0.335590  395018400\n",
       "2004-01-06  0.397321  0.400357  0.387679  0.394464   0.334379  509348000\n",
       "2004-01-07  0.394643  0.407679  0.391607  0.403393   0.341948  586874400\n",
       "2004-01-08  0.407857  0.423750  0.404464  0.417143   0.353604  460303200"
      ]
     },
     "execution_count": 70,
     "metadata": {},
     "output_type": "execute_result"
    }
   ],
   "source": [
    "import yfinance as yfin\n",
    "yfin.pdr_override()\n",
    "\n",
    "start = '2004-01-01'\n",
    "end = '2023-12-31'\n",
    "df = pdr.get_data_yahoo('AAPL', start, end)\n",
    "\n",
    "df.head()"
   ]
  },
  {
   "cell_type": "code",
   "execution_count": 71,
   "id": "52d23acc",
   "metadata": {},
   "outputs": [
    {
     "data": {
      "text/html": [
       "<div>\n",
       "<style scoped>\n",
       "    .dataframe tbody tr th:only-of-type {\n",
       "        vertical-align: middle;\n",
       "    }\n",
       "\n",
       "    .dataframe tbody tr th {\n",
       "        vertical-align: top;\n",
       "    }\n",
       "\n",
       "    .dataframe thead th {\n",
       "        text-align: right;\n",
       "    }\n",
       "</style>\n",
       "<table border=\"1\" class=\"dataframe\">\n",
       "  <thead>\n",
       "    <tr style=\"text-align: right;\">\n",
       "      <th></th>\n",
       "      <th>Date</th>\n",
       "      <th>Open</th>\n",
       "      <th>High</th>\n",
       "      <th>Low</th>\n",
       "      <th>Close</th>\n",
       "      <th>Adj Close</th>\n",
       "      <th>Volume</th>\n",
       "    </tr>\n",
       "  </thead>\n",
       "  <tbody>\n",
       "    <tr>\n",
       "      <th>0</th>\n",
       "      <td>2004-01-02</td>\n",
       "      <td>0.384821</td>\n",
       "      <td>0.388393</td>\n",
       "      <td>0.378214</td>\n",
       "      <td>0.380000</td>\n",
       "      <td>0.322118</td>\n",
       "      <td>144642400</td>\n",
       "    </tr>\n",
       "    <tr>\n",
       "      <th>1</th>\n",
       "      <td>2004-01-05</td>\n",
       "      <td>0.382500</td>\n",
       "      <td>0.399821</td>\n",
       "      <td>0.382500</td>\n",
       "      <td>0.395893</td>\n",
       "      <td>0.335590</td>\n",
       "      <td>395018400</td>\n",
       "    </tr>\n",
       "    <tr>\n",
       "      <th>2</th>\n",
       "      <td>2004-01-06</td>\n",
       "      <td>0.397321</td>\n",
       "      <td>0.400357</td>\n",
       "      <td>0.387679</td>\n",
       "      <td>0.394464</td>\n",
       "      <td>0.334379</td>\n",
       "      <td>509348000</td>\n",
       "    </tr>\n",
       "    <tr>\n",
       "      <th>3</th>\n",
       "      <td>2004-01-07</td>\n",
       "      <td>0.394643</td>\n",
       "      <td>0.407679</td>\n",
       "      <td>0.391607</td>\n",
       "      <td>0.403393</td>\n",
       "      <td>0.341948</td>\n",
       "      <td>586874400</td>\n",
       "    </tr>\n",
       "    <tr>\n",
       "      <th>4</th>\n",
       "      <td>2004-01-08</td>\n",
       "      <td>0.407857</td>\n",
       "      <td>0.423750</td>\n",
       "      <td>0.404464</td>\n",
       "      <td>0.417143</td>\n",
       "      <td>0.353604</td>\n",
       "      <td>460303200</td>\n",
       "    </tr>\n",
       "  </tbody>\n",
       "</table>\n",
       "</div>"
      ],
      "text/plain": [
       "        Date      Open      High       Low     Close  Adj Close     Volume\n",
       "0 2004-01-02  0.384821  0.388393  0.378214  0.380000   0.322118  144642400\n",
       "1 2004-01-05  0.382500  0.399821  0.382500  0.395893   0.335590  395018400\n",
       "2 2004-01-06  0.397321  0.400357  0.387679  0.394464   0.334379  509348000\n",
       "3 2004-01-07  0.394643  0.407679  0.391607  0.403393   0.341948  586874400\n",
       "4 2004-01-08  0.407857  0.423750  0.404464  0.417143   0.353604  460303200"
      ]
     },
     "execution_count": 71,
     "metadata": {},
     "output_type": "execute_result"
    }
   ],
   "source": [
    "#To change the index which is currently date and make it a normal column\n",
    "\n",
    "df=df.reset_index()\n",
    "df.head()"
   ]
  },
  {
   "cell_type": "code",
   "execution_count": 72,
   "id": "dd351840",
   "metadata": {},
   "outputs": [
    {
     "data": {
      "text/html": [
       "<div>\n",
       "<style scoped>\n",
       "    .dataframe tbody tr th:only-of-type {\n",
       "        vertical-align: middle;\n",
       "    }\n",
       "\n",
       "    .dataframe tbody tr th {\n",
       "        vertical-align: top;\n",
       "    }\n",
       "\n",
       "    .dataframe thead th {\n",
       "        text-align: right;\n",
       "    }\n",
       "</style>\n",
       "<table border=\"1\" class=\"dataframe\">\n",
       "  <thead>\n",
       "    <tr style=\"text-align: right;\">\n",
       "      <th></th>\n",
       "      <th>Open</th>\n",
       "      <th>High</th>\n",
       "      <th>Low</th>\n",
       "      <th>Close</th>\n",
       "      <th>Volume</th>\n",
       "    </tr>\n",
       "  </thead>\n",
       "  <tbody>\n",
       "    <tr>\n",
       "      <th>0</th>\n",
       "      <td>0.384821</td>\n",
       "      <td>0.388393</td>\n",
       "      <td>0.378214</td>\n",
       "      <td>0.380000</td>\n",
       "      <td>144642400</td>\n",
       "    </tr>\n",
       "    <tr>\n",
       "      <th>1</th>\n",
       "      <td>0.382500</td>\n",
       "      <td>0.399821</td>\n",
       "      <td>0.382500</td>\n",
       "      <td>0.395893</td>\n",
       "      <td>395018400</td>\n",
       "    </tr>\n",
       "    <tr>\n",
       "      <th>2</th>\n",
       "      <td>0.397321</td>\n",
       "      <td>0.400357</td>\n",
       "      <td>0.387679</td>\n",
       "      <td>0.394464</td>\n",
       "      <td>509348000</td>\n",
       "    </tr>\n",
       "    <tr>\n",
       "      <th>3</th>\n",
       "      <td>0.394643</td>\n",
       "      <td>0.407679</td>\n",
       "      <td>0.391607</td>\n",
       "      <td>0.403393</td>\n",
       "      <td>586874400</td>\n",
       "    </tr>\n",
       "    <tr>\n",
       "      <th>4</th>\n",
       "      <td>0.407857</td>\n",
       "      <td>0.423750</td>\n",
       "      <td>0.404464</td>\n",
       "      <td>0.417143</td>\n",
       "      <td>460303200</td>\n",
       "    </tr>\n",
       "  </tbody>\n",
       "</table>\n",
       "</div>"
      ],
      "text/plain": [
       "       Open      High       Low     Close     Volume\n",
       "0  0.384821  0.388393  0.378214  0.380000  144642400\n",
       "1  0.382500  0.399821  0.382500  0.395893  395018400\n",
       "2  0.397321  0.400357  0.387679  0.394464  509348000\n",
       "3  0.394643  0.407679  0.391607  0.403393  586874400\n",
       "4  0.407857  0.423750  0.404464  0.417143  460303200"
      ]
     },
     "execution_count": 72,
     "metadata": {},
     "output_type": "execute_result"
    }
   ],
   "source": [
    "#Droping the \"Date\",\"Adj Close\" column from the table\n",
    "\n",
    "df=df.drop(['Date','Adj Close'],axis=1)\n",
    "df.head()"
   ]
  },
  {
   "cell_type": "code",
   "execution_count": 73,
   "id": "c99cddc5",
   "metadata": {},
   "outputs": [
    {
     "data": {
      "text/plain": [
       "[<matplotlib.lines.Line2D at 0x2b3615b9ed0>]"
      ]
     },
     "execution_count": 73,
     "metadata": {},
     "output_type": "execute_result"
    },
    {
     "data": {
      "image/png": "[encoded data removed]",
      "text/plain": [
       "<Figure size 640x480 with 1 Axes>"
      ]
     },
     "metadata": {},
     "output_type": "display_data"
    }
   ],
   "source": [
    "#Plotting the graph of column Close\n",
    "plt.plot(df.Close)"
   ]
  },
  {
   "cell_type": "code",
   "execution_count": 75,
   "id": "fc96c91f",
   "metadata": {},
   "outputs": [
    {
     "data": {
      "text/plain": [
       "0          NaN\n",
       "1          NaN\n",
       "2          NaN\n",
       "3          NaN\n",
       "4          NaN\n",
       "5          NaN\n",
       "6          NaN\n",
       "7          NaN\n",
       "8          NaN\n",
       "9          NaN\n",
       "10         NaN\n",
       "11         NaN\n",
       "12         NaN\n",
       "13         NaN\n",
       "14         NaN\n",
       "15         NaN\n",
       "16         NaN\n",
       "17         NaN\n",
       "18         NaN\n",
       "19         NaN\n",
       "20         NaN\n",
       "21         NaN\n",
       "22         NaN\n",
       "23         NaN\n",
       "24         NaN\n",
       "25         NaN\n",
       "26         NaN\n",
       "27         NaN\n",
       "28         NaN\n",
       "29         NaN\n",
       "30         NaN\n",
       "31         NaN\n",
       "32         NaN\n",
       "33         NaN\n",
       "34         NaN\n",
       "35         NaN\n",
       "36         NaN\n",
       "37         NaN\n",
       "38         NaN\n",
       "39         NaN\n",
       "40         NaN\n",
       "41         NaN\n",
       "42         NaN\n",
       "43         NaN\n",
       "44         NaN\n",
       "45         NaN\n",
       "46         NaN\n",
       "47         NaN\n",
       "48         NaN\n",
       "49    0.419611\n",
       "50    0.421232\n",
       "51    0.422668\n",
       "52    0.423946\n",
       "53    0.425114\n",
       "54    0.426007\n",
       "Name: Close, dtype: float64"
      ]
     },
     "execution_count": 75,
     "metadata": {},
     "output_type": "execute_result"
    }
   ],
   "source": [
    "#Findig the mean of the 50 prvious values\n",
    "\n",
    "ma50=df.Close.rolling(50).mean()\n",
    "ma50.head(55)"
   ]
  },
  {
   "cell_type": "code",
   "execution_count": 76,
   "id": "96c1aa61",
   "metadata": {},
   "outputs": [
    {
     "data": {
      "text/plain": [
       "[<matplotlib.lines.Line2D at 0x2b3663caf90>]"
      ]
     },
     "execution_count": 76,
     "metadata": {},
     "output_type": "execute_result"
    },
    {
     "data": {
      "image/png": "[encoded data removed]",
      "text/plain": [
       "<Figure size 1200x600 with 1 Axes>"
      ]
     },
     "metadata": {},
     "output_type": "display_data"
    }
   ],
   "source": [
    "plt.figure(figsize=(12,6))\n",
    "plt.plot(df.Close)\n",
    "plt.plot(ma50,'r')"
   ]
  },
  {
   "cell_type": "code",
   "execution_count": 77,
   "id": "6d10a8de",
   "metadata": {},
   "outputs": [
    {
     "data": {
      "text/plain": [
       "0              NaN\n",
       "1              NaN\n",
       "2              NaN\n",
       "3              NaN\n",
       "4              NaN\n",
       "           ...    \n",
       "5028    178.649100\n",
       "5029    178.871851\n",
       "5030    179.085250\n",
       "5031    179.290201\n",
       "5032    179.487900\n",
       "Name: Close, Length: 5033, dtype: float64"
      ]
     },
     "execution_count": 77,
     "metadata": {},
     "output_type": "execute_result"
    }
   ],
   "source": [
    "#Findig the mean of the 200 prvious values\n",
    "\n",
    "ma200 = df.Close.rolling(200).mean()\n",
    "ma200"
   ]
  },
  {
   "cell_type": "code",
   "execution_count": 78,
   "id": "5b14d6bc",
   "metadata": {},
   "outputs": [
    {
     "data": {
      "text/plain": [
       "[<matplotlib.lines.Line2D at 0x2b366442b10>]"
      ]
     },
     "execution_count": 78,
     "metadata": {},
     "output_type": "execute_result"
    },
    {
     "data": {
      "image/png": "[encoded data removed]",
      "text/plain": [
       "<Figure size 1200x600 with 1 Axes>"
      ]
     },
     "metadata": {},
     "output_type": "display_data"
    }
   ],
   "source": [
    "plt.figure(figsize=(12,6))\n",
    "plt.plot(df.Close)\n",
    "plt.plot(ma50,'r')\n",
    "plt.plot(ma200,'g')"
   ]
  },
  {
   "cell_type": "code",
   "execution_count": 79,
   "id": "540b8047",
   "metadata": {},
   "outputs": [],
   "source": [
    "#Splitting Data into Training and Testing"
   ]
  },
  {
   "cell_type": "code",
   "execution_count": 80,
   "id": "f3f7d045",
   "metadata": {},
   "outputs": [
    {
     "name": "stdout",
     "output_type": "stream",
     "text": [
      "(3523, 1)\n",
      "(1510, 1)\n"
     ]
    }
   ],
   "source": [
    "data_training=pd.DataFrame(df['Close'][0:int(len(df)*0.70)])\n",
    "data_testing=pd.DataFrame(df['Close'][int(len(df)*0.70):int(len(df))])\n",
    "\n",
    "print(data_training.shape)\n",
    "print(data_testing.shape)"
   ]
  },
  {
   "cell_type": "code",
   "execution_count": 81,
   "id": "8a3a0208",
   "metadata": {},
   "outputs": [
    {
     "data": {
      "text/html": [
       "<div>\n",
       "<style scoped>\n",
       "    .dataframe tbody tr th:only-of-type {\n",
       "        vertical-align: middle;\n",
       "    }\n",
       "\n",
       "    .dataframe tbody tr th {\n",
       "        vertical-align: top;\n",
       "    }\n",
       "\n",
       "    .dataframe thead th {\n",
       "        text-align: right;\n",
       "    }\n",
       "</style>\n",
       "<table border=\"1\" class=\"dataframe\">\n",
       "  <thead>\n",
       "    <tr style=\"text-align: right;\">\n",
       "      <th></th>\n",
       "      <th>Close</th>\n",
       "    </tr>\n",
       "  </thead>\n",
       "  <tbody>\n",
       "    <tr>\n",
       "      <th>3523</th>\n",
       "      <td>42.307499</td>\n",
       "    </tr>\n",
       "    <tr>\n",
       "      <th>3524</th>\n",
       "      <td>43.064999</td>\n",
       "    </tr>\n",
       "    <tr>\n",
       "      <th>3525</th>\n",
       "      <td>43.057499</td>\n",
       "    </tr>\n",
       "    <tr>\n",
       "      <th>3526</th>\n",
       "      <td>43.257500</td>\n",
       "    </tr>\n",
       "    <tr>\n",
       "      <th>3527</th>\n",
       "      <td>43.750000</td>\n",
       "    </tr>\n",
       "  </tbody>\n",
       "</table>\n",
       "</div>"
      ],
      "text/plain": [
       "          Close\n",
       "3523  42.307499\n",
       "3524  43.064999\n",
       "3525  43.057499\n",
       "3526  43.257500\n",
       "3527  43.750000"
      ]
     },
     "execution_count": 81,
     "metadata": {},
     "output_type": "execute_result"
    }
   ],
   "source": [
    "data_testing.head()"
   ]
  },
  {
   "cell_type": "code",
   "execution_count": 82,
   "id": "0d9bc21d",
   "metadata": {},
   "outputs": [],
   "source": [
    "#Scaling the data for that importing \n",
    "\n",
    "from sklearn.preprocessing import MinMaxScaler\n",
    "scaler = MinMaxScaler(feature_range=(0,1))"
   ]
  },
  {
   "cell_type": "code",
   "execution_count": 83,
   "id": "345fb29c",
   "metadata": {},
   "outputs": [
    {
     "data": {
      "text/plain": [
       "array([[0.00000000e+00],\n",
       "       [3.63476557e-04],\n",
       "       [3.30794536e-04],\n",
       "       ...,\n",
       "       [9.66552368e-01],\n",
       "       [9.66723887e-01],\n",
       "       [9.69468288e-01]])"
      ]
     },
     "execution_count": 83,
     "metadata": {},
     "output_type": "execute_result"
    }
   ],
   "source": [
    "data_training_array = scaler.fit_transform(data_training)\n",
    "data_training_array"
   ]
  },
  {
   "cell_type": "code",
   "execution_count": 84,
   "id": "d793de3a",
   "metadata": {},
   "outputs": [],
   "source": [
    "#Dividing the data in x_train and y_train\n",
    "#Below with the step size of 100 its predicting the next value\n",
    "\n",
    "x_train=[]\n",
    "y_train=[]\n",
    "\n",
    "for i in range(100,data_training_array.shape[0]):\n",
    "    x_train.append(data_training_array[i-100:i])\n",
    "    y_train.append(data_training_array[i,0])\n",
    "    \n",
    "x_train,y_train=np.array(x_train),np.array(y_train)"
   ]
  },
  {
   "cell_type": "code",
   "execution_count": 85,
   "id": "788b6f9b",
   "metadata": {},
   "outputs": [],
   "source": [
    "#ML Model"
   ]
  },
  {
   "cell_type": "code",
   "execution_count": 86,
   "id": "7a987471",
   "metadata": {},
   "outputs": [],
   "source": [
    "from keras.layers import Dense,Dropout,LSTM\n",
    "from keras.models import Sequential"
   ]
  },
  {
   "cell_type": "code",
   "execution_count": 87,
   "id": "ba6e0636",
   "metadata": {},
   "outputs": [],
   "source": [
    "model=Sequential()\n",
    "\n",
    "\n",
    "model.add(LSTM(units=50,activation='relu',return_sequences=True,\n",
    "         input_shape=(x_train.shape[1],1)))\n",
    "model.add(Dropout(0.2))\n",
    "\n",
    "\n",
    "model.add(LSTM(units=60,activation='relu',return_sequences=True))\n",
    "model.add(Dropout(0.3))\n",
    "\n",
    "\n",
    "model.add(LSTM(units=80,activation='relu',return_sequences=True))\n",
    "model.add(Dropout(0.4))\n",
    "\n",
    "\n",
    "model.add(LSTM(units=120,activation='relu'))\n",
    "model.add(Dropout(0.5))\n",
    "\n",
    "\n",
    "model.add(Dense(units=1))"
   ]
  },
  {
   "cell_type": "code",
   "execution_count": 88,
   "id": "cd52896e",
   "metadata": {},
   "outputs": [
    {
     "name": "stdout",
     "output_type": "stream",
     "text": [
      "Model: \"sequential_1\"\n",
      "_________________________________________________________________\n",
      " Layer (type)                Output Shape              Param #   \n",
      "=================================================================\n",
      " lstm_4 (LSTM)               (None, 100, 50)           10400     \n",
      "                                                                 \n",
      " dropout_4 (Dropout)         (None, 100, 50)           0         \n",
      "                                                                 \n",
      " lstm_5 (LSTM)               (None, 100, 60)           26640     \n",
      "                                                                 \n",
      " dropout_5 (Dropout)         (None, 100, 60)           0         \n",
      "                                                                 \n",
      " lstm_6 (LSTM)               (None, 100, 80)           45120     \n",
      "                                                                 \n",
      " dropout_6 (Dropout)         (None, 100, 80)           0         \n",
      "                                                                 \n",
      " lstm_7 (LSTM)               (None, 120)               96480     \n",
      "                                                                 \n",
      " dropout_7 (Dropout)         (None, 120)               0         \n",
      "                                                                 \n",
      " dense_1 (Dense)             (None, 1)                 121       \n",
      "                                                                 \n",
      "=================================================================\n",
      "Total params: 178761 (698.29 KB)\n",
      "Trainable params: 178761 (698.29 KB)\n",
      "Non-trainable params: 0 (0.00 Byte)\n",
      "_________________________________________________________________\n"
     ]
    }
   ],
   "source": [
    "model.summary()"
   ]
  },
  {
   "cell_type": "code",
   "execution_count": 20,
   "id": "c3bde6c0",
   "metadata": {
    "scrolled": true
   },
   "outputs": [
    {
     "name": "stdout",
     "output_type": "stream",
     "text": [
      "WARNING:tensorflow:From C:\\Users\\saumy\\anaconda3\\Lib\\site-packages\\keras\\src\\optimizers\\__init__.py:309: The name tf.train.Optimizer is deprecated. Please use tf.compat.v1.train.Optimizer instead.\n",
      "\n",
      "Epoch 1/100\n",
      "WARNING:tensorflow:From C:\\Users\\saumy\\anaconda3\\Lib\\site-packages\\keras\\src\\utils\\tf_utils.py:492: The name tf.ragged.RaggedTensorValue is deprecated. Please use tf.compat.v1.ragged.RaggedTensorValue instead.\n",
      "\n",
      "107/107 [==============================] - 23s 154ms/step - loss: 0.0202\n",
      "Epoch 2/100\n",
      "107/107 [==============================] - 23s 212ms/step - loss: 0.0046\n",
      "Epoch 3/100\n",
      "107/107 [==============================] - 25s 237ms/step - loss: 0.0055\n",
      "Epoch 4/100\n",
      "107/107 [==============================] - 25s 235ms/step - loss: 0.0036\n",
      "Epoch 5/100\n",
      "107/107 [==============================] - 24s 220ms/step - loss: 0.0038\n",
      "Epoch 6/100\n",
      "107/107 [==============================] - 24s 228ms/step - loss: 0.0036\n",
      "Epoch 7/100\n",
      "107/107 [==============================] - 23s 213ms/step - loss: 0.0031\n",
      "Epoch 8/100\n",
      "107/107 [==============================] - 24s 227ms/step - loss: 0.0030\n",
      "Epoch 9/100\n",
      "107/107 [==============================] - 25s 235ms/step - loss: 0.0029\n",
      "Epoch 10/100\n",
      "107/107 [==============================] - 24s 226ms/step - loss: 0.0029\n",
      "Epoch 11/100\n",
      "107/107 [==============================] - 25s 239ms/step - loss: 0.0027\n",
      "Epoch 12/100\n",
      "107/107 [==============================] - 25s 230ms/step - loss: 0.0027\n",
      "Epoch 13/100\n",
      "107/107 [==============================] - 23s 218ms/step - loss: 0.0026\n",
      "Epoch 14/100\n",
      "107/107 [==============================] - 25s 231ms/step - loss: 0.0024\n",
      "Epoch 15/100\n",
      "107/107 [==============================] - 22s 205ms/step - loss: 0.0025\n",
      "Epoch 16/100\n",
      "107/107 [==============================] - 24s 226ms/step - loss: 0.0023\n",
      "Epoch 17/100\n",
      "107/107 [==============================] - 26s 241ms/step - loss: 0.0024\n",
      "Epoch 18/100\n",
      "107/107 [==============================] - 25s 234ms/step - loss: 0.0024\n",
      "Epoch 19/100\n",
      "107/107 [==============================] - 25s 228ms/step - loss: 0.0022\n",
      "Epoch 20/100\n",
      "107/107 [==============================] - 25s 230ms/step - loss: 0.0022\n",
      "Epoch 21/100\n",
      "107/107 [==============================] - 25s 230ms/step - loss: 0.0020\n",
      "Epoch 22/100\n",
      "107/107 [==============================] - 25s 238ms/step - loss: 0.0023\n",
      "Epoch 23/100\n",
      "107/107 [==============================] - 25s 231ms/step - loss: 0.0020\n",
      "Epoch 24/100\n",
      "107/107 [==============================] - 24s 224ms/step - loss: 0.0022\n",
      "Epoch 25/100\n",
      "107/107 [==============================] - 26s 239ms/step - loss: 0.0021\n",
      "Epoch 26/100\n",
      "107/107 [==============================] - 24s 223ms/step - loss: 0.0025\n",
      "Epoch 27/100\n",
      "107/107 [==============================] - 23s 217ms/step - loss: 0.0024\n",
      "Epoch 28/100\n",
      "107/107 [==============================] - 24s 223ms/step - loss: 0.0020\n",
      "Epoch 29/100\n",
      "107/107 [==============================] - 24s 227ms/step - loss: 0.0021\n",
      "Epoch 30/100\n",
      "107/107 [==============================] - 25s 236ms/step - loss: 0.0021\n",
      "Epoch 31/100\n",
      "107/107 [==============================] - 25s 232ms/step - loss: 0.0019\n",
      "Epoch 32/100\n",
      "107/107 [==============================] - 25s 230ms/step - loss: 0.0021\n",
      "Epoch 33/100\n",
      "107/107 [==============================] - 25s 233ms/step - loss: 0.0020\n",
      "Epoch 34/100\n",
      "107/107 [==============================] - 24s 223ms/step - loss: 0.0021\n",
      "Epoch 35/100\n",
      "107/107 [==============================] - 31s 286ms/step - loss: 0.0020\n",
      "Epoch 36/100\n",
      "107/107 [==============================] - 28s 263ms/step - loss: 0.0018\n",
      "Epoch 37/100\n",
      "107/107 [==============================] - 25s 234ms/step - loss: 0.0020\n",
      "Epoch 38/100\n",
      "107/107 [==============================] - 25s 236ms/step - loss: 0.0020\n",
      "Epoch 39/100\n",
      "107/107 [==============================] - 26s 244ms/step - loss: 0.0021\n",
      "Epoch 40/100\n",
      "107/107 [==============================] - 21s 199ms/step - loss: 0.0020\n",
      "Epoch 41/100\n",
      "107/107 [==============================] - 19s 181ms/step - loss: 0.0020\n",
      "Epoch 42/100\n",
      "107/107 [==============================] - 22s 203ms/step - loss: 0.0019\n",
      "Epoch 43/100\n",
      "107/107 [==============================] - 20s 185ms/step - loss: 0.0018\n",
      "Epoch 44/100\n",
      "107/107 [==============================] - 26s 247ms/step - loss: 0.0021\n",
      "Epoch 45/100\n",
      "107/107 [==============================] - 33s 309ms/step - loss: 0.0020\n",
      "Epoch 46/100\n",
      "107/107 [==============================] - 29s 270ms/step - loss: 0.0020\n",
      "Epoch 47/100\n",
      "107/107 [==============================] - 31s 288ms/step - loss: 0.0020\n",
      "Epoch 48/100\n",
      "107/107 [==============================] - 20s 186ms/step - loss: 0.0018\n",
      "Epoch 49/100\n",
      "107/107 [==============================] - 21s 199ms/step - loss: 0.0018\n",
      "Epoch 50/100\n",
      "107/107 [==============================] - 23s 213ms/step - loss: 0.0021\n",
      "Epoch 51/100\n",
      "107/107 [==============================] - 30s 278ms/step - loss: 0.0021\n",
      "Epoch 52/100\n",
      "107/107 [==============================] - 27s 249ms/step - loss: 0.0019\n",
      "Epoch 53/100\n",
      "107/107 [==============================] - 25s 232ms/step - loss: 0.0018\n",
      "Epoch 54/100\n",
      "107/107 [==============================] - 29s 269ms/step - loss: 0.0019\n",
      "Epoch 55/100\n",
      "107/107 [==============================] - 24s 222ms/step - loss: 0.0017\n",
      "Epoch 56/100\n",
      "107/107 [==============================] - 23s 214ms/step - loss: 0.0019\n",
      "Epoch 57/100\n",
      "107/107 [==============================] - 24s 225ms/step - loss: 0.0019\n",
      "Epoch 58/100\n",
      "107/107 [==============================] - 21s 198ms/step - loss: 0.0019\n",
      "Epoch 59/100\n",
      "107/107 [==============================] - 22s 209ms/step - loss: 0.0018\n",
      "Epoch 60/100\n",
      "107/107 [==============================] - 25s 229ms/step - loss: 0.0020\n",
      "Epoch 61/100\n",
      "107/107 [==============================] - 25s 235ms/step - loss: 0.0020\n",
      "Epoch 62/100\n",
      "107/107 [==============================] - 23s 217ms/step - loss: 0.0018\n",
      "Epoch 63/100\n",
      "107/107 [==============================] - 23s 212ms/step - loss: 0.0020\n",
      "Epoch 64/100\n",
      "107/107 [==============================] - 24s 227ms/step - loss: 0.0017\n",
      "Epoch 65/100\n",
      "107/107 [==============================] - 20s 192ms/step - loss: 0.0020\n",
      "Epoch 66/100\n",
      "107/107 [==============================] - 21s 200ms/step - loss: 0.0019\n",
      "Epoch 67/100\n",
      "107/107 [==============================] - 22s 205ms/step - loss: 0.0018\n",
      "Epoch 68/100\n",
      "107/107 [==============================] - 23s 211ms/step - loss: 0.0019\n",
      "Epoch 69/100\n",
      "107/107 [==============================] - 23s 211ms/step - loss: 0.0019\n",
      "Epoch 70/100\n",
      "107/107 [==============================] - 23s 211ms/step - loss: 0.0018\n",
      "Epoch 71/100\n",
      "107/107 [==============================] - 22s 205ms/step - loss: 0.0018\n",
      "Epoch 72/100\n",
      "107/107 [==============================] - 24s 221ms/step - loss: 0.0019\n",
      "Epoch 73/100\n",
      "107/107 [==============================] - 24s 221ms/step - loss: 0.0018\n",
      "Epoch 74/100\n",
      "107/107 [==============================] - 21s 199ms/step - loss: 0.0018\n",
      "Epoch 75/100\n",
      "107/107 [==============================] - 19s 182ms/step - loss: 0.0018\n",
      "Epoch 76/100\n",
      "107/107 [==============================] - 24s 225ms/step - loss: 0.0018\n",
      "Epoch 77/100\n",
      "107/107 [==============================] - 20s 189ms/step - loss: 0.0019\n",
      "Epoch 78/100\n",
      "107/107 [==============================] - 19s 176ms/step - loss: 0.0018\n",
      "Epoch 79/100\n",
      "107/107 [==============================] - 19s 176ms/step - loss: 0.0017\n",
      "Epoch 80/100\n",
      "107/107 [==============================] - 19s 178ms/step - loss: 0.0018\n",
      "Epoch 81/100\n",
      "107/107 [==============================] - 18s 172ms/step - loss: 0.0019\n",
      "Epoch 82/100\n",
      "107/107 [==============================] - 20s 191ms/step - loss: 0.0019\n",
      "Epoch 83/100\n",
      "107/107 [==============================] - 22s 202ms/step - loss: 0.0017\n",
      "Epoch 84/100\n",
      "107/107 [==============================] - 20s 187ms/step - loss: 0.0018\n",
      "Epoch 85/100\n",
      "107/107 [==============================] - 21s 192ms/step - loss: 0.0017\n",
      "Epoch 86/100\n",
      "107/107 [==============================] - 20s 192ms/step - loss: 0.0019\n",
      "Epoch 87/100\n",
      "107/107 [==============================] - 21s 198ms/step - loss: 0.0018\n",
      "Epoch 88/100\n",
      "107/107 [==============================] - 19s 177ms/step - loss: 0.0018\n",
      "Epoch 89/100\n",
      "107/107 [==============================] - 21s 195ms/step - loss: 0.0017\n",
      "Epoch 90/100\n",
      "107/107 [==============================] - 25s 229ms/step - loss: 0.0019\n",
      "Epoch 91/100\n",
      "107/107 [==============================] - 20s 186ms/step - loss: 0.0019\n",
      "Epoch 92/100\n",
      "107/107 [==============================] - 20s 185ms/step - loss: 0.0018\n",
      "Epoch 93/100\n",
      "107/107 [==============================] - 20s 182ms/step - loss: 0.0018\n",
      "Epoch 94/100\n",
      "107/107 [==============================] - 20s 186ms/step - loss: 0.0018\n",
      "Epoch 95/100\n",
      "107/107 [==============================] - 20s 187ms/step - loss: 0.0017\n",
      "Epoch 96/100\n",
      "107/107 [==============================] - 21s 195ms/step - loss: 0.0017\n",
      "Epoch 97/100\n",
      "107/107 [==============================] - 25s 230ms/step - loss: 0.0017\n",
      "Epoch 98/100\n",
      "107/107 [==============================] - 26s 246ms/step - loss: 0.0018\n",
      "Epoch 99/100\n",
      "107/107 [==============================] - 21s 193ms/step - loss: 0.0017\n",
      "Epoch 100/100\n",
      "107/107 [==============================] - 20s 187ms/step - loss: 0.0018\n"
     ]
    },
    {
     "data": {
      "text/plain": [
       "<keras.src.callbacks.History at 0x2b356866090>"
      ]
     },
     "execution_count": 20,
     "metadata": {},
     "output_type": "execute_result"
    }
   ],
   "source": [
    "model.compile(optimizer='adam',loss='mean_squared_error')\n",
    "model.fit(x_train,y_train,epochs=100)"
   ]
  },
  {
   "cell_type": "code",
   "execution_count": 89,
   "id": "fb277d17",
   "metadata": {},
   "outputs": [],
   "source": [
    "#Savng the above trained model"
   ]
  },
  {
   "cell_type": "code",
   "execution_count": 21,
   "id": "4c6e5ef3",
   "metadata": {},
   "outputs": [
    {
     "name": "stderr",
     "output_type": "stream",
     "text": [
      "C:\\Users\\saumy\\anaconda3\\Lib\\site-packages\\keras\\src\\engine\\training.py:3103: UserWarning: You are saving your model as an HDF5 file via `model.save()`. This file format is considered legacy. We recommend using instead the native Keras format, e.g. `model.save('my_model.keras')`.\n",
      "  saving_api.save_model(\n"
     ]
    }
   ],
   "source": [
    "model.save('trained_model.h5')"
   ]
  },
  {
   "cell_type": "code",
   "execution_count": 91,
   "id": "4aac5afe",
   "metadata": {},
   "outputs": [],
   "source": [
    "#For testing the first data in dataset we need the previous 100 values of data training data set\n",
    "past_100_days = data_training.tail(100)"
   ]
  },
  {
   "cell_type": "code",
   "execution_count": 92,
   "id": "8456de16",
   "metadata": {},
   "outputs": [],
   "source": [
    "#Appending the last 100 previous values to the data testing set\n",
    "final_df=pd.concat([past_100_days,data_testing],axis=0)"
   ]
  },
  {
   "cell_type": "code",
   "execution_count": 94,
   "id": "8a036b1f",
   "metadata": {},
   "outputs": [
    {
     "data": {
      "text/html": [
       "<div>\n",
       "<style scoped>\n",
       "    .dataframe tbody tr th:only-of-type {\n",
       "        vertical-align: middle;\n",
       "    }\n",
       "\n",
       "    .dataframe tbody tr th {\n",
       "        vertical-align: top;\n",
       "    }\n",
       "\n",
       "    .dataframe thead th {\n",
       "        text-align: right;\n",
       "    }\n",
       "</style>\n",
       "<table border=\"1\" class=\"dataframe\">\n",
       "  <thead>\n",
       "    <tr style=\"text-align: right;\">\n",
       "      <th></th>\n",
       "      <th>Close</th>\n",
       "    </tr>\n",
       "  </thead>\n",
       "  <tbody>\n",
       "    <tr>\n",
       "      <th>3423</th>\n",
       "      <td>40.020000</td>\n",
       "    </tr>\n",
       "    <tr>\n",
       "      <th>3424</th>\n",
       "      <td>40.264999</td>\n",
       "    </tr>\n",
       "    <tr>\n",
       "      <th>3425</th>\n",
       "      <td>38.830002</td>\n",
       "    </tr>\n",
       "    <tr>\n",
       "      <th>3426</th>\n",
       "      <td>39.369999</td>\n",
       "    </tr>\n",
       "    <tr>\n",
       "      <th>3427</th>\n",
       "      <td>39.962502</td>\n",
       "    </tr>\n",
       "  </tbody>\n",
       "</table>\n",
       "</div>"
      ],
      "text/plain": [
       "          Close\n",
       "3423  40.020000\n",
       "3424  40.264999\n",
       "3425  38.830002\n",
       "3426  39.369999\n",
       "3427  39.962502"
      ]
     },
     "execution_count": 94,
     "metadata": {},
     "output_type": "execute_result"
    }
   ],
   "source": [
    "final_df.head()"
   ]
  },
  {
   "cell_type": "code",
   "execution_count": 95,
   "id": "5bc23cdf",
   "metadata": {},
   "outputs": [
    {
     "data": {
      "text/plain": [
       "array([[0.02751249],\n",
       "       [0.0290196 ],\n",
       "       [0.02019224],\n",
       "       ...,\n",
       "       [0.96948862],\n",
       "       [0.9721338 ],\n",
       "       [0.96567473]])"
      ]
     },
     "execution_count": 95,
     "metadata": {},
     "output_type": "execute_result"
    }
   ],
   "source": [
    "#Need to scale down the above data\n",
    "input_data=scaler.fit_transform(final_df)\n",
    "input_data"
   ]
  },
  {
   "cell_type": "code",
   "execution_count": 96,
   "id": "177ab2e8",
   "metadata": {},
   "outputs": [
    {
     "data": {
      "text/plain": [
       "(1610, 1)"
      ]
     },
     "execution_count": 96,
     "metadata": {},
     "output_type": "execute_result"
    }
   ],
   "source": [
    "input_data.shape"
   ]
  },
  {
   "cell_type": "code",
   "execution_count": 97,
   "id": "1810a56c",
   "metadata": {},
   "outputs": [],
   "source": [
    "x_test=[]\n",
    "y_test=[]\n",
    "\n",
    "for i in range(100,input_data.shape[0]):\n",
    "    x_test.append(input_data[i-100:i])\n",
    "    y_test.append(input_data[i,0])"
   ]
  },
  {
   "cell_type": "code",
   "execution_count": 98,
   "id": "6458ced5",
   "metadata": {},
   "outputs": [
    {
     "name": "stdout",
     "output_type": "stream",
     "text": [
      "(1510, 100, 1)\n",
      "(1510,)\n"
     ]
    }
   ],
   "source": [
    "x_test,y_test=np.array(x_test),np.array(y_test)\n",
    "print(x_test.shape)\n",
    "print(y_test.shape)"
   ]
  },
  {
   "cell_type": "code",
   "execution_count": 46,
   "id": "714af2ff",
   "metadata": {},
   "outputs": [
    {
     "name": "stdout",
     "output_type": "stream",
     "text": [
      "48/48 [==============================] - 2s 20ms/step\n"
     ]
    }
   ],
   "source": [
    "#Make Predictions\n",
    "\n",
    "y_predicted = model.predict(x_test)"
   ]
  },
  {
   "cell_type": "code",
   "execution_count": 99,
   "id": "2a25db94",
   "metadata": {},
   "outputs": [
    {
     "data": {
      "text/plain": [
       "(1510, 1)"
      ]
     },
     "execution_count": 99,
     "metadata": {},
     "output_type": "execute_result"
    }
   ],
   "source": [
    "y_predicted.shape"
   ]
  },
  {
   "cell_type": "code",
   "execution_count": 100,
   "id": "97b0b4a0",
   "metadata": {},
   "outputs": [
    {
     "data": {
      "text/plain": [
       "array([0.00615148])"
      ]
     },
     "execution_count": 100,
     "metadata": {},
     "output_type": "execute_result"
    }
   ],
   "source": [
    "scaler.scale_"
   ]
  },
  {
   "cell_type": "code",
   "execution_count": 101,
   "id": "702b9123",
   "metadata": {},
   "outputs": [],
   "source": [
    "#Getting the old values again\n",
    "scale_factor=1/0.00615148\n",
    "y_predicted=y_predicted * scale_factor\n",
    "y_test= y_test*scale_factor"
   ]
  },
  {
   "cell_type": "code",
   "execution_count": 50,
   "id": "81568cac",
   "metadata": {},
   "outputs": [
    {
     "data": {
      "image/png": "[encoded data removed]",
      "text/plain": [
       "<Figure size 1200x600 with 1 Axes>"
      ]
     },
     "metadata": {},
     "output_type": "display_data"
    }
   ],
   "source": [
    "plt.figure(figsize=(12,6))\n",
    "plt.plot(y_test,'b',label= 'Original Price')\n",
    "\n",
    "plt.plot(y_predicted,'r',label= 'Predicted Price')\n",
    "plt.xlabel('Time')\n",
    "plt.ylabel('Price')\n",
    "plt.legend()\n",
    "plt.show()"
   ]
  },
  {
   "cell_type": "code",
   "execution_count": null,
   "id": "78552cc0",
   "metadata": {},
   "outputs": [],
   "source": []
  }
 ],
 "metadata": {
  "kernelspec": {
   "display_name": "Python 3 (ipykernel)",
   "language": "python",
   "name": "python3"
  },
  "language_info": {
   "codemirror_mode": {
    "name": "ipython",
    "version": 3
   },
   "file_extension": ".py",
   "mimetype": "text/x-python",
   "name": "python",
   "nbconvert_exporter": "python",
   "pygments_lexer": "ipython3",
   "version": "3.11.5"
  }
 },
 "nbformat": 4,
 "nbformat_minor": 5
}
